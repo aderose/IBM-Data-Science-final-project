{
 "cells": [
  {
   "cell_type": "markdown",
   "metadata": {},
   "source": [
    "## <center>Predicting Your Rent Location</center>\n",
    "\n",
    "<center><em>August 2020</em></center>"
   ]
  },
  {
   "cell_type": "markdown",
   "metadata": {},
   "source": [
    "### 1. Introduction"
   ]
  },
  {
   "cell_type": "markdown",
   "metadata": {},
   "source": [
    "#### 1.1. Background"
   ]
  },
  {
   "cell_type": "markdown",
   "metadata": {},
   "source": [
    "London is a vibrant city full of aspiring young adults looking to start a life of their own. The city is an extremely expensive place to purchase a home. As such, the majority of young adults tend towards renting. A lot of these individuals will be moving to London from other towns and will therefore not have any idea on where exactly they should rent, how much they need to budget for and what exactly would be available in the area."
   ]
  },
  {
   "cell_type": "markdown",
   "metadata": {},
   "source": [
    "#### 1.2. Goal"
   ]
  },
  {
   "cell_type": "markdown",
   "metadata": {},
   "source": [
    "The core aim of this project is to determine a list of boroughs in London which satisfy the following:\n",
    "\n",
    "<ul>\n",
    "    <li> Reasonably safe to live in (a big city is never going to be perfectly safe!).</li>\n",
    "    <li> Affordable for a possible first time renter.</li>\n",
    "    <li> Provides a selection of public services close by.</li>\n",
    "</ul>"
   ]
  },
  {
   "cell_type": "markdown",
   "metadata": {},
   "source": [
    "#### 1.3. Target Audience\n"
   ]
  },
  {
   "cell_type": "markdown",
   "metadata": {},
   "source": [
    "In this report, we attempt to further inform renters who are making the big move into the city.\n",
    "\n",
    "This aims to be an invaluable resource for new renters looking to move to London with no prior experience living there, but would also be useful resource for individuals who are looking to move from one borough to another.\n",
    "\n"
   ]
  },
  {
   "cell_type": "markdown",
   "metadata": {},
   "source": [
    "### 2. The Data"
   ]
  },
  {
   "cell_type": "markdown",
   "metadata": {},
   "source": [
    "#### 2.1. Requirements"
   ]
  },
  {
   "cell_type": "markdown",
   "metadata": {},
   "source": [
    "In order to determine such locations, we will have to gather a data from a variety of sources.\n",
    "\n",
    "1. We will need detailed crime data for each borough of London.\n",
    "2. Average rent per borough.\n",
    "3. Top amenity venues within each borough.\n"
   ]
  },
  {
   "cell_type": "markdown",
   "metadata": {},
   "source": [
    "#### 2.2. Sources"
   ]
  },
  {
   "cell_type": "markdown",
   "metadata": {},
   "source": [
    "These data sets will be sourced from several different locations.\n",
    "\n",
    "1. Crime data will be sourced from the Metropolitan Police, via the London Datastore.\n",
    "2. Average rent will be sourced from the Valuation Office Agency, via the London Datastore.\n",
    "3. Amenity venues will be sources through the FourSquare API.\n",
    "\n",
    "By gathering this data, we can then take a deeper dive into the key features impacting the rent prices of each borough."
   ]
  }
 ],
 "metadata": {
  "kernelspec": {
   "display_name": "Python 3",
   "language": "python",
   "name": "python3"
  },
  "language_info": {
   "codemirror_mode": {
    "name": "ipython",
    "version": 3
   },
   "file_extension": ".py",
   "mimetype": "text/x-python",
   "name": "python",
   "nbconvert_exporter": "python",
   "pygments_lexer": "ipython3",
   "version": "3.8.3"
  }
 },
 "nbformat": 4,
 "nbformat_minor": 4
}
